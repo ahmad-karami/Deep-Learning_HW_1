{
  "cells": [
    {
      "cell_type": "markdown",
      "metadata": {
        "id": "baCy7SDmHKaE"
      },
      "source": [
        "#introduction to machine learning\n",
        "##pca analysis on MNIST dataset"
      ]
    },
    {
      "cell_type": "markdown",
      "metadata": {
        "id": "4ojmApR3Hcda"
      },
      "source": [
        "داخل درس با آنالیز مولفه های اصلی آشنا شده اید ، در این تمرین قصد داریم از ابتدا این روش را روی دیتاست داده شده عملی کنیم و نتیایج این روش را با همدیگر مشاهده کنیم."
      ]
    },
    {
      "cell_type": "code",
      "execution_count": 1,
      "metadata": {
        "id": "R-fCJwHlI077"
      },
      "outputs": [],
      "source": [
        "first_name= \"Ahamd\"\n",
        "last_name= \"Karami\"\n",
        "student_number= \"401205756\""
      ]
    },
    {
      "cell_type": "markdown",
      "metadata": {
        "id": "jSKSHp_9Ip3W"
      },
      "source": [
        "در بخش زیر تمامی کتابخانه هایی که لازم دارید را ایمپورت کنید."
      ]
    },
    {
      "cell_type": "code",
      "execution_count": 2,
      "metadata": {
        "id": "a4Avet2IHHpS"
      },
      "outputs": [],
      "source": [
        "import numpy as np\n",
        "import pandas as pd\n",
        "\n",
        "\n",
        "import sys\n",
        "import pickle\n",
        "import gzip\n",
        "import matplotlib.pyplot as plt\n",
        "from sklearn.decomposition import PCA\n",
        "from sklearn.linear_model import LogisticRegression  \n",
        "from sklearn.metrics import accuracy_score"
      ]
    },
    {
      "cell_type": "markdown",
      "metadata": {
        "id": "yAMlWhkXJC37"
      },
      "source": [
        "### داده شده را لود کنید MNIST در این قسمت دیتا ست  \n",
        "\n",
        "پیش از این که مولفه های اصلی داده ها را استخراج کنید آن را نرمالایز کنید.\n",
        "توجه کنید که سمپل های لود شده به صورت 28*28  میباشند و باید آن را به صورت بردار 784 تایی تبدیل کنید"
      ]
    },
    {
      "cell_type": "code",
      "execution_count": 3,
      "metadata": {
        "id": "aoqQXAI4eB1M"
      },
      "outputs": [],
      "source": [
        "# load the data set and fill nan value with 0\n",
        "# TODO (load dataset)\n",
        "from keras.datasets import mnist\n",
        "(x_train, y_train), (x_test, y_test) = mnist.load_data()\n",
        "\n",
        "# load the mnist dataset\n",
        "# f = gzip.open('mnist.pkl.gz', 'rb')\n",
        "# if sys.version_info < (3,):\n",
        "#     data = pickle.load(f)\n",
        "# else:\n",
        "#     data = pickle.load(f, encoding='bytes')\n",
        "# f.close()\n",
        "# dataset = data\n",
        "# (x_train, y_train), (x_test, y_test) = dataset\n",
        "\n",
        "# dataset = [x_train,y_train, x_test, y_test]\n",
        "\n",
        "# and reshape the values\n",
        "\n",
        "x_train= np.reshape(x_train,(len(x_train) ,784))\n",
        "x_test = np.reshape  (x_test,(len(x_test) ,784))\n",
        "        # dataset[i] = (dataset[i] - np.min(dataset[i])) / (np.max(dataset[i])- np.min(dataset[i]))\n",
        "        "
      ]
    },
    {
      "cell_type": "code",
      "execution_count": 4,
      "metadata": {
        "id": "uMtxONwwr-8R"
      },
      "outputs": [
        {
          "data": {
            "image/png": "[encoded data removed]",
            "text/plain": [
              "<Figure size 1500x500 with 2 Axes>"
            ]
          },
          "metadata": {},
          "output_type": "display_data"
        }
      ],
      "source": [
        "# here show 50 first of this images\n",
        "\n",
        "def show_images(num_images,X):\n",
        "    # TODO (implement show images function)\n",
        "    #inputs dataset and number of images wants to show\n",
        "    #output plot images\n",
        "    _,axes = plt.subplots( 1,num_images , figsize=(15, 5))\n",
        "    for i, ax in enumerate(axes.flat):\n",
        "        ax.imshow(X[i].reshape(28,28))  \n",
        "        ax.axis('off')\n",
        "\n",
        "show_images(2,x_train)\n",
        "\n",
        "# plt.imshow(x_train[0].reshape(28,28))\n",
        "\n"
      ]
    },
    {
      "cell_type": "code",
      "execution_count": 5,
      "metadata": {
        "id": "1iha4NJ524Oa"
      },
      "outputs": [],
      "source": [
        "#TODO scale the data set to [0 1]\n",
        "#divide data to maximum value .\n",
        "\n",
        "x_train= x_train/ (np.max(x_train))\n",
        "x_test = x_test / (np.max(x_test))\n",
        "# x_train[400]"
      ]
    },
    {
      "cell_type": "markdown",
      "metadata": {
        "id": "SkzOWJyBKMtF"
      },
      "source": [
        "در این قسمت ابتدا تابع کواریانس داده را بدست آورید و سپس مقادیر ویژه و بردار ویژه های آن را استخراج کنید."
      ]
    },
    {
      "cell_type": "code",
      "execution_count": 6,
      "metadata": {
        "id": "GKuNSqD5OpNB"
      },
      "outputs": [],
      "source": [
        "#TODO calculate the covariance matrix and the eigenvalue and eigenvectors of the covariance matrix.\n",
        "\n",
        "# Step 2: Center the data\n",
        "centered_data = x_train-np.mean(x_train)\n",
        "\n",
        "# Calculate the covariance matrix\n",
        "covariance_matrix = np.dot(centered_data.T,centered_data)/(len(x_train)-1)\n",
        "\n",
        "eigenvalues, eigenvectors = np.linalg.eig(covariance_matrix)\n",
        "# Cov_mat = np.dot((x_train-np.mean(x_train)).T,x_train-np.mean(x_train))/(len(x_train)-1)\n",
        "# eigenvalues,eigenvectors = np.linalg.eig(Cov_mat)\n"
      ]
    },
    {
      "cell_type": "markdown",
      "metadata": {
        "id": "Y3t5zzgzPCPy"
      },
      "source": [
        "در بخش زیر میخواهیم تعدادی از مولفه های اصلی را استخراج کنیم که بخش قابل قبولی از واریانس داده ها را شامل شده باشند."
      ]
    },
    {
      "cell_type": "code",
      "execution_count": 7,
      "metadata": {
        "id": "8r0uztFVPuwZ"
      },
      "outputs": [
        {
          "name": "stdout",
          "output_type": "stream",
          "text": [
            "2.1717451523545708\n",
            "361\n"
          ]
        }
      ],
      "source": [
        "explained_variance =0.995 # you can change this variable to get more component of datasets.\n",
        "#calculate the total variance from eigenvalues and find the first k component that contains the eplained_variance of the total variance.\n",
        "#TODO\n",
        "\n",
        "sorted_indices = np.argsort(eigenvalues)[::-1]\n",
        "sorted_eigenvalues = eigenvalues[sorted_indices]\n",
        "sorted_eigenvectors = eigenvectors[sorted_indices]\n",
        "\n",
        "total_variance= np.sum(eigenvalues)\n",
        "current_variance = 0\n",
        "for i in range (len(sorted_eigenvalues)):\n",
        "    current_variance += sorted_eigenvalues[i]\n",
        "    if current_variance / total_variance >= explained_variance:\n",
        "        # this index cause variance to be greater than explained_variance\n",
        "        break\n",
        "\n",
        "selected_eigenvalues = sorted_eigenvalues[0:i]\n",
        "selected_eigenvectors = sorted_eigenvectors[:,:i]\n",
        "\n",
        "\n",
        "#calculate the compression_ratio\n",
        "compression_ratio = len(eigenvalues)/ len(selected_eigenvalues)\n",
        "print(compression_ratio)\n",
        "\n",
        "\n",
        "# sorted_indices\n",
        "# sorted_indices\n",
        "np.shape(selected_eigenvalues)\n",
        "print((i))\n"
      ]
    },
    {
      "cell_type": "markdown",
      "metadata": {
        "id": "IjnSYDxaQ22R"
      },
      "source": [
        "حال در این بخش دیتاهای موجود را روی این مولفه ها تصویر کنید عملیات کاهش بعدد را انجام دهید و سپس ابعاد را به اندازه تصاویر اصلی برگردانید و  تصویر یکی از سمپل ها را برای هر دو حالت قبل از کاهش بعد روی مولفه ها و بعد از آن رسم کنید."
      ]
    },
    {
      "cell_type": "code",
      "execution_count": 8,
      "metadata": {
        "id": "XD4pAG4AQ2Wy"
      },
      "outputs": [
        {
          "name": "stdout",
          "output_type": "stream",
          "text": [
            "(60000, 784)\n"
          ]
        },
        {
          "data": {
            "image/png": "[encoded data removed]",
            "text/plain": [
              "<Figure size 1500x500 with 2 Axes>"
            ]
          },
          "metadata": {},
          "output_type": "display_data"
        },
        {
          "data": {
            "image/png": "[encoded data removed]",
            "text/plain": [
              "<Figure size 1500x500 with 2 Axes>"
            ]
          },
          "metadata": {},
          "output_type": "display_data"
        }
      ],
      "source": [
        "#Project Images into Reduced Dimensionality Eigenbasis F=X*V (X is our dataset,F our reduced dimensionality dataset,V is k choosen eigenvectors)\n",
        "#And Reproject Images to Standard Basis for plotting the reduced component image X_k=F*V_transpose (V_transpose is equal to V inverse)\n",
        "#select on sample and reshape it to a 28 by 28 matrix and plot them as image\n",
        "\n",
        "#TODO\n",
        "\n",
        "Reduced_data = np.dot(x_train,selected_eigenvectors)\n",
        "Reproject_data  = np.dot(Reduced_data,selected_eigenvectors.T)\n",
        "# Reproject_data = abs((Reproject_data)/ (np.max((Reproject_data))))\n",
        "print(np.shape(Reproject_data))\n",
        "\n",
        "show_images(2,abs(Reproject_data))\n",
        "show_images(2,x_train)\n",
        "# print(x_train[400])\n",
        "# print(Reproject_data)\n",
        "# print(abs(Reproject_data))\n",
        "# plot the dimentionally reduced data\n",
        "#plot the original data\n",
        "\n",
        "\n"
      ]
    },
    {
      "cell_type": "markdown",
      "metadata": {
        "id": "Kwfvh4OlV3yt"
      },
      "source": [
        "## Perform PCA and Gauge Max Accuracy"
      ]
    },
    {
      "cell_type": "markdown",
      "metadata": {
        "id": "q6nK9afkYbtA"
      },
      "source": [
        "حال میخواهیم برای دیتای تصویر شده یک مدل یادگیری بسازیم و دقت مدل را برحسب تعدا مولفه های اصلی بدست بیاوریم ."
      ]
    },
    {
      "cell_type": "code",
      "execution_count": 9,
      "metadata": {
        "id": "s81nsIJDU6AU"
      },
      "outputs": [
        {
          "data": {
            "text/plain": [
              "-0.5201437418085479"
            ]
          },
          "execution_count": 9,
          "metadata": {},
          "output_type": "execute_result"
        }
      ],
      "source": [
        "#complete below function using python PCA function\n",
        "def do_pca(n_components, data):\n",
        "  #input number of component and not normalized data set.\n",
        "  #output is the projected dataset\n",
        "  pca = PCA(n_components = n_components)\n",
        "  pca_data = pca.fit_transform(data)\n",
        "  R_pca_data = pca.inverse_transform(pca_data)\n",
        "  projected_data  = R_pca_data.reshape((len(data), 28*28))\n",
        "  return projected_data\n",
        "\n",
        "\n",
        "pca_data = do_pca(100,x_train)\n",
        "\n",
        "np.min(pca_data)\n",
        "\n"
      ]
    },
    {
      "cell_type": "code",
      "execution_count": 10,
      "metadata": {},
      "outputs": [
        {
          "data": {
            "image/png": "[encoded data removed]",
            "text/plain": [
              "<Figure size 1500x500 with 2 Axes>"
            ]
          },
          "metadata": {},
          "output_type": "display_data"
        }
      ],
      "source": [
        "show_images(2,pca_data)\n",
        "\n",
        "# show_images(5,pca_data)\n",
        "\n",
        "# show_images(2,abs(pca_data))"
      ]
    },
    {
      "cell_type": "code",
      "execution_count": 11,
      "metadata": {
        "id": "0xmvtYezCPBM"
      },
      "outputs": [],
      "source": [
        "#define a function that gets the X data and Y labels and returns the accuracy of ml model.\n",
        "\n",
        "def ML_model(X, y, print_output=True):\n",
        "\n",
        "    # from sklearn.linear_model import LogisticRegression  \n",
        "    # from sklearn.metrics import accuracy_score\n",
        "    y_train , y_test = y\n",
        "    x_train , x_test = X\n",
        "\n",
        "    classifier = LogisticRegression(random_state = 0)\n",
        "    classifier.fit(x_train, y_train)\n",
        "\n",
        "    y_pred = classifier.predict(x_test)\n",
        "    acc = accuracy_score(y_test,y_pred)\n",
        "    # print(acc)\n",
        "    # TODO\n",
        "    \n",
        "    return acc\n",
        "\n",
        "# ML_model(pca_data,y_train)\n"
      ]
    },
    {
      "cell_type": "code",
      "execution_count": 12,
      "metadata": {
        "id": "IBZInLOHdMNJ"
      },
      "outputs": [
        {
          "name": "stdout",
          "output_type": "stream",
          "text": [
            "2\n"
          ]
        },
        {
          "name": "stderr",
          "output_type": "stream",
          "text": [
            "c:\\Users\\ahmad\\AppData\\Local\\Programs\\Python\\Python311\\Lib\\site-packages\\sklearn\\linear_model\\_logistic.py:460: ConvergenceWarning: lbfgs failed to converge (status=1):\n",
            "STOP: TOTAL NO. of ITERATIONS REACHED LIMIT.\n",
            "\n",
            "Increase the number of iterations (max_iter) or scale the data as shown in:\n",
            "    https://scikit-learn.org/stable/modules/preprocessing.html\n",
            "Please also refer to the documentation for alternative solver options:\n",
            "    https://scikit-learn.org/stable/modules/linear_model.html#logistic-regression\n",
            "  n_iter_i = _check_optimize_result(\n"
          ]
        },
        {
          "name": "stdout",
          "output_type": "stream",
          "text": [
            "12\n"
          ]
        },
        {
          "name": "stderr",
          "output_type": "stream",
          "text": [
            "c:\\Users\\ahmad\\AppData\\Local\\Programs\\Python\\Python311\\Lib\\site-packages\\sklearn\\linear_model\\_logistic.py:460: ConvergenceWarning: lbfgs failed to converge (status=1):\n",
            "STOP: TOTAL NO. of ITERATIONS REACHED LIMIT.\n",
            "\n",
            "Increase the number of iterations (max_iter) or scale the data as shown in:\n",
            "    https://scikit-learn.org/stable/modules/preprocessing.html\n",
            "Please also refer to the documentation for alternative solver options:\n",
            "    https://scikit-learn.org/stable/modules/linear_model.html#logistic-regression\n",
            "  n_iter_i = _check_optimize_result(\n"
          ]
        },
        {
          "name": "stdout",
          "output_type": "stream",
          "text": [
            "22\n"
          ]
        },
        {
          "name": "stderr",
          "output_type": "stream",
          "text": [
            "c:\\Users\\ahmad\\AppData\\Local\\Programs\\Python\\Python311\\Lib\\site-packages\\sklearn\\linear_model\\_logistic.py:460: ConvergenceWarning: lbfgs failed to converge (status=1):\n",
            "STOP: TOTAL NO. of ITERATIONS REACHED LIMIT.\n",
            "\n",
            "Increase the number of iterations (max_iter) or scale the data as shown in:\n",
            "    https://scikit-learn.org/stable/modules/preprocessing.html\n",
            "Please also refer to the documentation for alternative solver options:\n",
            "    https://scikit-learn.org/stable/modules/linear_model.html#logistic-regression\n",
            "  n_iter_i = _check_optimize_result(\n"
          ]
        },
        {
          "name": "stdout",
          "output_type": "stream",
          "text": [
            "32\n"
          ]
        },
        {
          "name": "stderr",
          "output_type": "stream",
          "text": [
            "c:\\Users\\ahmad\\AppData\\Local\\Programs\\Python\\Python311\\Lib\\site-packages\\sklearn\\linear_model\\_logistic.py:460: ConvergenceWarning: lbfgs failed to converge (status=1):\n",
            "STOP: TOTAL NO. of ITERATIONS REACHED LIMIT.\n",
            "\n",
            "Increase the number of iterations (max_iter) or scale the data as shown in:\n",
            "    https://scikit-learn.org/stable/modules/preprocessing.html\n",
            "Please also refer to the documentation for alternative solver options:\n",
            "    https://scikit-learn.org/stable/modules/linear_model.html#logistic-regression\n",
            "  n_iter_i = _check_optimize_result(\n"
          ]
        },
        {
          "name": "stdout",
          "output_type": "stream",
          "text": [
            "42\n"
          ]
        },
        {
          "name": "stderr",
          "output_type": "stream",
          "text": [
            "c:\\Users\\ahmad\\AppData\\Local\\Programs\\Python\\Python311\\Lib\\site-packages\\sklearn\\linear_model\\_logistic.py:460: ConvergenceWarning: lbfgs failed to converge (status=1):\n",
            "STOP: TOTAL NO. of ITERATIONS REACHED LIMIT.\n",
            "\n",
            "Increase the number of iterations (max_iter) or scale the data as shown in:\n",
            "    https://scikit-learn.org/stable/modules/preprocessing.html\n",
            "Please also refer to the documentation for alternative solver options:\n",
            "    https://scikit-learn.org/stable/modules/linear_model.html#logistic-regression\n",
            "  n_iter_i = _check_optimize_result(\n"
          ]
        },
        {
          "name": "stdout",
          "output_type": "stream",
          "text": [
            "52\n"
          ]
        },
        {
          "name": "stderr",
          "output_type": "stream",
          "text": [
            "c:\\Users\\ahmad\\AppData\\Local\\Programs\\Python\\Python311\\Lib\\site-packages\\sklearn\\linear_model\\_logistic.py:460: ConvergenceWarning: lbfgs failed to converge (status=1):\n",
            "STOP: TOTAL NO. of ITERATIONS REACHED LIMIT.\n",
            "\n",
            "Increase the number of iterations (max_iter) or scale the data as shown in:\n",
            "    https://scikit-learn.org/stable/modules/preprocessing.html\n",
            "Please also refer to the documentation for alternative solver options:\n",
            "    https://scikit-learn.org/stable/modules/linear_model.html#logistic-regression\n",
            "  n_iter_i = _check_optimize_result(\n"
          ]
        },
        {
          "name": "stdout",
          "output_type": "stream",
          "text": [
            "62\n"
          ]
        },
        {
          "name": "stderr",
          "output_type": "stream",
          "text": [
            "c:\\Users\\ahmad\\AppData\\Local\\Programs\\Python\\Python311\\Lib\\site-packages\\sklearn\\linear_model\\_logistic.py:460: ConvergenceWarning: lbfgs failed to converge (status=1):\n",
            "STOP: TOTAL NO. of ITERATIONS REACHED LIMIT.\n",
            "\n",
            "Increase the number of iterations (max_iter) or scale the data as shown in:\n",
            "    https://scikit-learn.org/stable/modules/preprocessing.html\n",
            "Please also refer to the documentation for alternative solver options:\n",
            "    https://scikit-learn.org/stable/modules/linear_model.html#logistic-regression\n",
            "  n_iter_i = _check_optimize_result(\n"
          ]
        },
        {
          "name": "stdout",
          "output_type": "stream",
          "text": [
            "72\n"
          ]
        },
        {
          "name": "stderr",
          "output_type": "stream",
          "text": [
            "c:\\Users\\ahmad\\AppData\\Local\\Programs\\Python\\Python311\\Lib\\site-packages\\sklearn\\linear_model\\_logistic.py:460: ConvergenceWarning: lbfgs failed to converge (status=1):\n",
            "STOP: TOTAL NO. of ITERATIONS REACHED LIMIT.\n",
            "\n",
            "Increase the number of iterations (max_iter) or scale the data as shown in:\n",
            "    https://scikit-learn.org/stable/modules/preprocessing.html\n",
            "Please also refer to the documentation for alternative solver options:\n",
            "    https://scikit-learn.org/stable/modules/linear_model.html#logistic-regression\n",
            "  n_iter_i = _check_optimize_result(\n"
          ]
        },
        {
          "name": "stdout",
          "output_type": "stream",
          "text": [
            "82\n",
            "92\n"
          ]
        },
        {
          "name": "stderr",
          "output_type": "stream",
          "text": [
            "c:\\Users\\ahmad\\AppData\\Local\\Programs\\Python\\Python311\\Lib\\site-packages\\sklearn\\linear_model\\_logistic.py:460: ConvergenceWarning: lbfgs failed to converge (status=1):\n",
            "STOP: TOTAL NO. of ITERATIONS REACHED LIMIT.\n",
            "\n",
            "Increase the number of iterations (max_iter) or scale the data as shown in:\n",
            "    https://scikit-learn.org/stable/modules/preprocessing.html\n",
            "Please also refer to the documentation for alternative solver options:\n",
            "    https://scikit-learn.org/stable/modules/linear_model.html#logistic-regression\n",
            "  n_iter_i = _check_optimize_result(\n"
          ]
        }
      ],
      "source": [
        "#your code to plot the accuracy of projected train data on one ml model(choose on your own reggression , random forest , ...)\n",
        "#consider number of component from 2 to 101 and calculate accuracy based on number of components\n",
        "#TODO\n",
        "acc_list, pc_list = [], []\n",
        "\n",
        "for pc in range(2,102,10):\n",
        "    new_dataset = do_pca(pc , x_train)\n",
        "    x_testN = do_pca(pc , x_test)\n",
        "    X = (new_dataset , x_testN)\n",
        "    Y = (y_train , y_test)\n",
        "    pc_list.append(pc)\n",
        "    acc_list.append( ML_model(X, Y))\n",
        "    print(pc)\n",
        "    #TODO\n"
      ]
    },
    {
      "cell_type": "code",
      "execution_count": 13,
      "metadata": {
        "id": "Kv9MulpfWvjO"
      },
      "outputs": [
        {
          "data": {
            "text/plain": [
              "Text(0, 0.5, 'accuracy')"
            ]
          },
          "execution_count": 13,
          "metadata": {},
          "output_type": "execute_result"
        },
        {
          "data": {
            "image/png": "[encoded data removed]",
            "text/plain": [
              "<Figure size 640x480 with 1 Axes>"
            ]
          },
          "metadata": {},
          "output_type": "display_data"
        }
      ],
      "source": [
        "#plot the accuracy based on components.\n",
        "plt.scatter(pc_list,acc_list)\n",
        "plt.xlabel('number of components')\n",
        "plt.ylabel('accuracy')\n",
        "#TODO"
      ]
    },
    {
      "cell_type": "code",
      "execution_count": 14,
      "metadata": {},
      "outputs": [
        {
          "name": "stderr",
          "output_type": "stream",
          "text": [
            "c:\\Users\\ahmad\\AppData\\Local\\Programs\\Python\\Python311\\Lib\\site-packages\\sklearn\\linear_model\\_logistic.py:460: ConvergenceWarning: lbfgs failed to converge (status=1):\n",
            "STOP: TOTAL NO. of ITERATIONS REACHED LIMIT.\n",
            "\n",
            "Increase the number of iterations (max_iter) or scale the data as shown in:\n",
            "    https://scikit-learn.org/stable/modules/preprocessing.html\n",
            "Please also refer to the documentation for alternative solver options:\n",
            "    https://scikit-learn.org/stable/modules/linear_model.html#logistic-regression\n",
            "  n_iter_i = _check_optimize_result(\n"
          ]
        }
      ],
      "source": [
        "X = (x_train , x_test)\n",
        "Y = (y_train , y_test)\n",
        "Max_acc =  ML_model( X, Y)\n",
        "\n",
        "\n"
      ]
    },
    {
      "cell_type": "code",
      "execution_count": 15,
      "metadata": {},
      "outputs": [
        {
          "data": {
            "text/plain": [
              "0.9258"
            ]
          },
          "execution_count": 15,
          "metadata": {},
          "output_type": "execute_result"
        }
      ],
      "source": [
        "Max_acc"
      ]
    },
    {
      "cell_type": "code",
      "execution_count": 17,
      "metadata": {
        "id": "bTxBCwuOWMwK"
      },
      "outputs": [
        {
          "name": "stdout",
          "output_type": "stream",
          "text": [
            "the best accuracy is attained in components = 9\n",
            "the maximum accuracy that attained is=0.9206\n",
            "the maximum accurary is=0.9258\n"
          ]
        }
      ],
      "source": [
        "#print the number of components that maximize the accuracy and the max accuracy\n",
        "#TODO\n",
        "for i in range (1,len(acc_list)+1):\n",
        "    if acc_list[i] == np.max(acc_list):\n",
        "        break\n",
        " \n",
        "print(f\"the best accuracy is attained in components = {i}\")\n",
        "print(f\"the maximum accuracy that attained is={acc_list[i]}\")\n",
        "print(f\"the maximum accurary is={Max_acc}\")"
      ]
    }
  ],
  "metadata": {
    "colab": {
      "provenance": []
    },
    "kernelspec": {
      "display_name": "Python 3",
      "name": "python3"
    },
    "language_info": {
      "codemirror_mode": {
        "name": "ipython",
        "version": 3
      },
      "file_extension": ".py",
      "mimetype": "text/x-python",
      "name": "python",
      "nbconvert_exporter": "python",
      "pygments_lexer": "ipython3",
      "version": "3.11.4"
    }
  },
  "nbformat": 4,
  "nbformat_minor": 0
}
